{
 "cells": [
  {
   "cell_type": "markdown",
   "metadata": {},
   "source": [
    "## Object oriented Programming:"
   ]
  },
  {
   "cell_type": "code",
   "execution_count": 5,
   "metadata": {},
   "outputs": [
    {
     "name": "stdout",
     "output_type": "stream",
     "text": [
      "Husky\n",
      "12\n",
      "Labra\n",
      "6\n",
      "watson\n",
      "16\n"
     ]
    }
   ],
   "source": [
    "class Dog:\n",
    "    def __init__(self,name,age):\n",
    "        self.name = name\n",
    "        self.age = age\n",
    "\n",
    "dog1 = Dog(\"Husky\",12)\n",
    "print(dog1.name)\n",
    "print(dog1.age)\n",
    "\n",
    "dog1 = Dog(\"Labra\",6)\n",
    "print(dog1.name)\n",
    "print(dog1.age)\n",
    "\n",
    "dog1 = Dog(\"watson\",16)\n",
    "print(dog1.name)\n",
    "print(dog1.age)\n",
    "        "
   ]
  },
  {
   "cell_type": "markdown",
   "metadata": {},
   "source": [
    "#### Creating Class with instance Method"
   ]
  },
  {
   "cell_type": "code",
   "execution_count": 15,
   "metadata": {},
   "outputs": [
    {
     "name": "stdout",
     "output_type": "stream",
     "text": [
      "Lucy is barking\n",
      "Lucy is 10 years old\n",
      "carry is barking\n",
      "carry is 10 years old\n"
     ]
    }
   ],
   "source": [
    "class Dog:\n",
    "    def __init__(self,name,age):\n",
    "        self.name=name\n",
    "        self.age=age\n",
    "    \n",
    "    def bark(self):\n",
    "        print(f\"{self.name} is barking\")\n",
    "    \n",
    "    def dog_age(self):\n",
    "        print(f\"{self.name} is {self.age} years old\")\n",
    "\n",
    "\n",
    "\n",
    "dog1 = Dog(\"Lucy\",10)      \n",
    "dog1.bark()\n",
    "dog1.dog_age()\n",
    "\n",
    "\n",
    "dog2= Dog(\"carry\",10)      \n",
    "dog2.bark()\n",
    "dog2.dog_age()"
   ]
  }
 ],
 "metadata": {
  "kernelspec": {
   "display_name": "Python 3",
   "language": "python",
   "name": "python3"
  },
  "language_info": {
   "codemirror_mode": {
    "name": "ipython",
    "version": 3
   },
   "file_extension": ".py",
   "mimetype": "text/x-python",
   "name": "python",
   "nbconvert_exporter": "python",
   "pygments_lexer": "ipython3",
   "version": "3.10.16"
  }
 },
 "nbformat": 4,
 "nbformat_minor": 2
}
