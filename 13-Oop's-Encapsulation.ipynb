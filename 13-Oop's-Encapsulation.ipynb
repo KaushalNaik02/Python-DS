{
 "cells": [
  {
   "cell_type": "markdown",
   "metadata": {},
   "source": [
    "## Encapsulation"
   ]
  },
  {
   "cell_type": "code",
   "execution_count": 1,
   "metadata": {},
   "outputs": [
    {
     "name": "stdout",
     "output_type": "stream",
     "text": [
      "Alice\n",
      "30\n",
      "35\n",
      "Invalid age!\n"
     ]
    }
   ],
   "source": [
    "class Person:\n",
    "    def __init__(self, name, age):\n",
    "        self.name = name          # Public attribute\n",
    "        self.__age = age          # Private attribute (using double underscores)\n",
    "\n",
    "    def display_info(self):\n",
    "        print(f\"Name: {self.name}, Age: {self.__age}\")\n",
    "\n",
    "    def set_age(self, age):\n",
    "        if age > 0:               # Validation before setting age\n",
    "            self.__age = age\n",
    "        else:\n",
    "            print(\"Invalid age!\")\n",
    "\n",
    "    def get_age(self):\n",
    "        return self.__age\n",
    "\n",
    "# Create an object\n",
    "person = Person(\"Alice\", 30)\n",
    "\n",
    "# Access public attribute\n",
    "print(person.name)  # Output: Alice\n",
    "\n",
    "# Try to access private attribute directly (will fail)\n",
    "# print(person.__age)  # AttributeError\n",
    "\n",
    "# Access private attribute through methods\n",
    "print(person.get_age())  # Output: 30\n",
    "person.set_age(35)       # Update age\n",
    "print(person.get_age())  # Output: 35\n",
    "\n",
    "person.set_age(-5)       # Invalid age"
   ]
  }
 ],
 "metadata": {
  "kernelspec": {
   "display_name": "Python 3",
   "language": "python",
   "name": "python3"
  },
  "language_info": {
   "codemirror_mode": {
    "name": "ipython",
    "version": 3
   },
   "file_extension": ".py",
   "mimetype": "text/x-python",
   "name": "python",
   "nbconvert_exporter": "python",
   "pygments_lexer": "ipython3",
   "version": "3.10.16"
  }
 },
 "nbformat": 4,
 "nbformat_minor": 2
}
