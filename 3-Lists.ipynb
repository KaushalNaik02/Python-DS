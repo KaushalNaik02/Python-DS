{
 "cells": [
  {
   "cell_type": "markdown",
   "metadata": {},
   "source": [
    "## Section 4"
   ]
  },
  {
   "cell_type": "markdown",
   "metadata": {},
   "source": [
    "### Inbult Data Structure In Python (List)"
   ]
  },
  {
   "cell_type": "markdown",
   "metadata": {},
   "source": [
    "#### List"
   ]
  },
  {
   "cell_type": "code",
   "execution_count": 2,
   "metadata": {},
   "outputs": [
    {
     "name": "stdout",
     "output_type": "stream",
     "text": [
      "<class 'list'>\n",
      "['kaushal', 'naik', 'anirudh', 'pawan']\n"
     ]
    }
   ],
   "source": [
    "name_list = [\"kaushal\",\"naik\",\"anirudh\",\"pawan\"]\n",
    "print(type(name_list))\n",
    "print(name_list)"
   ]
  },
  {
   "cell_type": "code",
   "execution_count": 1,
   "metadata": {},
   "outputs": [
    {
     "name": "stdout",
     "output_type": "stream",
     "text": [
      "[1, 2, 'kaushal', 4, 'naik', 5]\n"
     ]
    }
   ],
   "source": [
    "mix_list = [1,2,\"kaushal\",4,\"naik\",5]\n",
    "print(mix_list)"
   ]
  },
  {
   "cell_type": "code",
   "execution_count": 27,
   "metadata": {},
   "outputs": [
    {
     "name": "stdout",
     "output_type": "stream",
     "text": [
      "['naik', 'anirudh']\n",
      "['kaushal', 'naik', 'anirudh']\n",
      "['naik', 'anirudh', 'pawan', 'rahul', 'omkar', 'Rohan']\n",
      "['pawan', 'rahul', 'omkar']\n",
      "['kaushal', 'anirudh', 'rahul', 'Rohan']\n",
      "['kaushal', 'rajesh', 'anirudh', 'pawan', 'rahul', 'omkar', 'Rohan']\n",
      "['kaushal', 'rajesh', 'anirudh', 'pawan', 'rahul', 'omkar', 'Rohan', 'mango']\n",
      "['kaushal', 'itsAdded', 'rajesh', 'anirudh', 'pawan', 'rahul', 'omkar', 'Rohan', 'mango']\n",
      "['kaushal', 'itsAdded', 'rajesh', 'anirudh', 'pawan', 'omkar', 'Rohan', 'mango']\n",
      "['kaushal', 'itsAdded', 'rajesh', 'anirudh', 'pawan', 'omkar', 'Rohan']\n",
      "1\n"
     ]
    }
   ],
   "source": [
    "name_list = [\"kaushal\",\"naik\",\"anirudh\",\"pawan\",\"rahul\",\"omkar\",\"Rohan\"]\n",
    "print(name_list[1:3])\n",
    "print(name_list[:3])\n",
    "print(name_list[1:])\n",
    "print(name_list[-4:-1])           #Exceptional case\n",
    "print(name_list[::2])\n",
    "\n",
    "name_list[1]=\"rajesh\"\n",
    "print(name_list)\n",
    "\n",
    "name_list.append(\"mango\")\n",
    "print(name_list)\n",
    "\n",
    "name_list.insert(1,\"itsAdded\")\n",
    "print(name_list)\n",
    "\n",
    "name_list.remove(\"rahul\")\n",
    "print(name_list)\n",
    "\n",
    "name_list.pop()\n",
    "print(name_list)\n",
    "\n",
    "cnt = name_list.count(\"pawan\")\n",
    "print(cnt)"
   ]
  },
  {
   "cell_type": "markdown",
   "metadata": {},
   "source": [
    "### List Comprehension"
   ]
  },
  {
   "cell_type": "code",
   "execution_count": 28,
   "metadata": {},
   "outputs": [
    {
     "name": "stdout",
     "output_type": "stream",
     "text": [
      "[0, 1, 4, 9, 16, 25, 36, 49, 64, 81]\n"
     ]
    }
   ],
   "source": [
    "squares = [num**2   for num in range(10)]                #[Expression    For item in iterable]\n",
    "print(squares)"
   ]
  },
  {
   "cell_type": "code",
   "execution_count": 29,
   "metadata": {},
   "outputs": [
    {
     "name": "stdout",
     "output_type": "stream",
     "text": [
      "[0, 2, 4, 6, 8]\n"
     ]
    }
   ],
   "source": [
    "evens = [num   for num in range(10)   if num%2==0]             #[Expression    For item in iterable     if else condition]\n",
    "print(evens)"
   ]
  },
  {
   "cell_type": "markdown",
   "metadata": {},
   "source": [
    "#### Nested List"
   ]
  },
  {
   "cell_type": "code",
   "execution_count": 3,
   "metadata": {},
   "outputs": [
    {
     "name": "stdout",
     "output_type": "stream",
     "text": [
      "[6]\n"
     ]
    }
   ],
   "source": [
    "lissss = [[1,2,3],[5,6,7],[8,9,10]]\n",
    "print(lissss[1][1:2])"
   ]
  }
 ],
 "metadata": {
  "kernelspec": {
   "display_name": "Python 3",
   "language": "python",
   "name": "python3"
  },
  "language_info": {
   "codemirror_mode": {
    "name": "ipython",
    "version": 3
   },
   "file_extension": ".py",
   "mimetype": "text/x-python",
   "name": "python",
   "nbconvert_exporter": "python",
   "pygments_lexer": "ipython3",
   "version": "3.10.16"
  }
 },
 "nbformat": 4,
 "nbformat_minor": 2
}
