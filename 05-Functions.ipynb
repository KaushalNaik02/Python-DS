{
 "cells": [
  {
   "cell_type": "markdown",
   "metadata": {},
   "source": [
    "## Section 5\n"
   ]
  },
  {
   "cell_type": "markdown",
   "metadata": {},
   "source": [
    "## Functions In Python"
   ]
  },
  {
   "cell_type": "markdown",
   "metadata": {},
   "source": [
    "### Function Basics"
   ]
  },
  {
   "cell_type": "code",
   "execution_count": 7,
   "metadata": {},
   "outputs": [
    {
     "name": "stdout",
     "output_type": "stream",
     "text": [
      "The number 9 Is Odd\n",
      "The Number 10 is Even\n"
     ]
    }
   ],
   "source": [
    "def even_odd(num):\n",
    "    if num%2==0:\n",
    "        print(f\"The Number {num} is Even\")\n",
    "    else:\n",
    "        print(f\"The number {num} Is Odd\")\n",
    "\n",
    "\n",
    "even_odd(9)\n",
    "even_odd(10)"
   ]
  },
  {
   "cell_type": "markdown",
   "metadata": {},
   "source": [
    "#### Multiple Parameters"
   ]
  },
  {
   "cell_type": "code",
   "execution_count": 11,
   "metadata": {},
   "outputs": [
    {
     "name": "stdout",
     "output_type": "stream",
     "text": [
      "13\n",
      "13\n"
     ]
    }
   ],
   "source": [
    "#Both Functions Are same but written in differnet Format\n",
    "def add(a,b):\n",
    "    c = a + b\n",
    "    return(c)\n",
    "result = add(6,7)\n",
    "print(result)\n",
    "\n",
    "\n",
    "def add(a,b):\n",
    "    c = a + b\n",
    "    print(c)\n",
    "add(6,7)"
   ]
  },
  {
   "cell_type": "markdown",
   "metadata": {},
   "source": [
    "#### Default Parameter"
   ]
  },
  {
   "cell_type": "code",
   "execution_count": 16,
   "metadata": {},
   "outputs": [
    {
     "name": "stdout",
     "output_type": "stream",
     "text": [
      "My Name is rahul\n",
      "My Name is kaushal\n"
     ]
    }
   ],
   "source": [
    "def def_par(name=\"kaushal\"):\n",
    "    print(f\"My Name is {name}\")\n",
    "    \n",
    "def_par(\"rahul\")\n",
    "def_par()"
   ]
  },
  {
   "cell_type": "markdown",
   "metadata": {},
   "source": [
    "### Examples For Functions"
   ]
  },
  {
   "cell_type": "markdown",
   "metadata": {},
   "source": [
    "#### Simple operations"
   ]
  },
  {
   "cell_type": "code",
   "execution_count": 1,
   "metadata": {},
   "outputs": [
    {
     "name": "stdout",
     "output_type": "stream",
     "text": [
      "11\n",
      "0.8333333333333334\n",
      "6 is greater then a\n"
     ]
    }
   ],
   "source": [
    "def kau_function(a,b):\n",
    "    print(a+b)\n",
    "    print(a/b)\n",
    "    if a>b:\n",
    "        print(f\"{a} is greater than b\")\n",
    "    else:\n",
    "        print(f\"{b} is greater then a\")\n",
    "\n",
    "kau_function(5,6)"
   ]
  },
  {
   "cell_type": "markdown",
   "metadata": {},
   "source": [
    "#### Celcius To Farheneit"
   ]
  },
  {
   "cell_type": "code",
   "execution_count": 9,
   "metadata": {},
   "outputs": [
    {
     "name": "stdout",
     "output_type": "stream",
     "text": [
      "89.6 Farheneit\n",
      "32.0 Celcius\n"
     ]
    }
   ],
   "source": [
    "def cel_far(temp,unit):\n",
    "    if unit=='C':\n",
    "        print(temp * 9/5 +32,\"Farheneit\")\n",
    "    elif unit=='F':\n",
    "        print((temp-32) * 5/9,\"Celcius\")\n",
    "    else:\n",
    "        (\"Enter Valid Temperature\")\n",
    "\n",
    "cel_far(32,'C')\n",
    "cel_far(89.6,'F')"
   ]
  }
 ],
 "metadata": {
  "kernelspec": {
   "display_name": "Python 3",
   "language": "python",
   "name": "python3"
  },
  "language_info": {
   "codemirror_mode": {
    "name": "ipython",
    "version": 3
   },
   "file_extension": ".py",
   "mimetype": "text/x-python",
   "name": "python",
   "nbconvert_exporter": "python",
   "pygments_lexer": "ipython3",
   "version": "3.10.16"
  }
 },
 "nbformat": 4,
 "nbformat_minor": 2
}
