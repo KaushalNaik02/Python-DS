{
 "cells": [
  {
   "cell_type": "markdown",
   "metadata": {},
   "source": [
    "## Inheritence"
   ]
  },
  {
   "cell_type": "code",
   "execution_count": 4,
   "metadata": {},
   "outputs": [
    {
     "name": "stdout",
     "output_type": "stream",
     "text": [
      "The Toyota vehicle is starting.\n",
      "The Toyota Corolla is driving.\n"
     ]
    }
   ],
   "source": [
    "# Base class\n",
    "class Vehicle:\n",
    "    def __init__(self, brand):\n",
    "        self.brand = brand\n",
    "\n",
    "    def start(self):\n",
    "        print(f\"The {self.brand} vehicle is starting.\")\n",
    "\n",
    "# Derived class\n",
    "class Car(Vehicle):\n",
    "    def __init__(self, brand, model):\n",
    "        super().__init__(brand)  # Call the base class constructor\n",
    "        self.model = model\n",
    "\n",
    "    def drive(self):\n",
    "        print(f\"The {self.brand} {self.model} is driving.\")\n",
    "\n",
    "# Create an object of the derived class\n",
    "car1 = Car(\"Toyota\", \"Corolla\")\n",
    "\n",
    "# Call methods\n",
    "car1.start()  # Inherited from the Vehicle class\n",
    "car1.drive()  # Specific to the Car class"
   ]
  },
  {
   "cell_type": "code",
   "execution_count": 3,
   "metadata": {},
   "outputs": [
    {
     "name": "stdout",
     "output_type": "stream",
     "text": [
      "Lucy is eating.\n",
      "Lucy, a Golden Retriever, is barking.\n",
      "Whiskers is eating.\n",
      "Whiskers, the black cat, is meowing.\n"
     ]
    }
   ],
   "source": [
    "# Base class\n",
    "class Animal:\n",
    "    def __init__(self, name):\n",
    "        self.name = name\n",
    "\n",
    "    def eat(self):\n",
    "        print(f\"{self.name} is eating.\")\n",
    "\n",
    "# Derived class\n",
    "class Dog(Animal):\n",
    "    def __init__(self, name, breed):\n",
    "        super().__init__(name)  # Call the constructor of the base class\n",
    "        self.breed = breed\n",
    "\n",
    "    def bark(self):\n",
    "        print(f\"{self.name}, a {self.breed}, is barking.\")\n",
    "\n",
    "# Another derived class\n",
    "class Cat(Animal):\n",
    "    def __init__(self, name, color):\n",
    "        super().__init__(name)\n",
    "        self.color = color\n",
    "\n",
    "    def meow(self):\n",
    "        print(f\"{self.name}, the {self.color} cat, is meowing.\")\n",
    "\n",
    "# Create objects\n",
    "dog1 = Dog(\"Lucy\", \"Golden Retriever\")\n",
    "cat1 = Cat(\"Whiskers\", \"black\")\n",
    "\n",
    "# Call methods\n",
    "dog1.eat()      # Inherited from the base class\n",
    "dog1.bark()     # Specific to Dog class\n",
    "\n",
    "cat1.eat()      # Inherited from the base class\n",
    "cat1.meow()     # Specific to Cat class"
   ]
  }
 ],
 "metadata": {
  "kernelspec": {
   "display_name": "Python 3",
   "language": "python",
   "name": "python3"
  },
  "language_info": {
   "codemirror_mode": {
    "name": "ipython",
    "version": 3
   },
   "file_extension": ".py",
   "mimetype": "text/x-python",
   "name": "python",
   "nbconvert_exporter": "python",
   "pygments_lexer": "ipython3",
   "version": "3.10.16"
  }
 },
 "nbformat": 4,
 "nbformat_minor": 2
}
