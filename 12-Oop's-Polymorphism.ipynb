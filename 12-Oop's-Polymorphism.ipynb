{
 "cells": [
  {
   "cell_type": "markdown",
   "metadata": {},
   "source": [
    "## Polymorphism"
   ]
  },
  {
   "cell_type": "code",
   "execution_count": 1,
   "metadata": {},
   "outputs": [
    {
     "name": "stdout",
     "output_type": "stream",
     "text": [
      "Parrots say 'Squawk!'\n",
      "Crows say 'Caw!'\n"
     ]
    }
   ],
   "source": [
    "class Bird:\n",
    "    def sound(self):\n",
    "        print(\"Birds make sounds.\")\n",
    "\n",
    "class Parrot(Bird):\n",
    "    def sound(self):\n",
    "        print(\"Parrots say 'Squawk!'\")\n",
    "\n",
    "class Crow(Bird):\n",
    "    def sound(self):\n",
    "        print(\"Crows say 'Caw!'\")\n",
    "\n",
    "# Polymorphism in action\n",
    "def make_sound(bird):\n",
    "    bird.sound()\n",
    "\n",
    "# Create objects\n",
    "parrot = Parrot()\n",
    "crow = Crow()\n",
    "\n",
    "# Call the polymorphic method\n",
    "make_sound(parrot)  # Calls Parrot's version of sound()\n",
    "make_sound(crow)    # Calls Crow's version of sound()"
   ]
  },
  {
   "cell_type": "code",
   "execution_count": 2,
   "metadata": {},
   "outputs": [
    {
     "name": "stdout",
     "output_type": "stream",
     "text": [
      "Woof!\n",
      "Meow!\n"
     ]
    }
   ],
   "source": [
    "class Dog:\n",
    "    def speak(self):\n",
    "        return \"Woof!\"\n",
    "\n",
    "class Cat:\n",
    "    def speak(self):\n",
    "        return \"Meow!\"\n",
    "\n",
    "# Polymorphism in action\n",
    "def animal_sound(animal):\n",
    "    print(animal.speak())\n",
    "\n",
    "# Create objects\n",
    "dog = Dog()\n",
    "cat = Cat()\n",
    "\n",
    "# Call the polymorphic function\n",
    "animal_sound(dog)  # Calls Dog's version of speak()\n",
    "animal_sound(cat)  # Calls Cat's version of speak()"
   ]
  }
 ],
 "metadata": {
  "kernelspec": {
   "display_name": "Python 3",
   "language": "python",
   "name": "python3"
  },
  "language_info": {
   "codemirror_mode": {
    "name": "ipython",
    "version": 3
   },
   "file_extension": ".py",
   "mimetype": "text/x-python",
   "name": "python",
   "nbconvert_exporter": "python",
   "pygments_lexer": "ipython3",
   "version": "3.10.16"
  }
 },
 "nbformat": 4,
 "nbformat_minor": 2
}
