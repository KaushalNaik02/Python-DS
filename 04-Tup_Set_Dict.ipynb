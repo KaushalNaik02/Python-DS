{
 "cells": [
  {
   "cell_type": "markdown",
   "metadata": {},
   "source": [
    "# Section 4"
   ]
  },
  {
   "cell_type": "markdown",
   "metadata": {},
   "source": [
    "### Inbult Data Structure In Python ( Tuples, Set ,Dictionaries)"
   ]
  },
  {
   "cell_type": "markdown",
   "metadata": {},
   "source": [
    "## Tuples"
   ]
  },
  {
   "cell_type": "code",
   "execution_count": 43,
   "metadata": {},
   "outputs": [
    {
     "name": "stdout",
     "output_type": "stream",
     "text": [
      "<class 'tuple'>\n",
      "<class 'list'>\n"
     ]
    }
   ],
   "source": [
    "tuples = ()\n",
    "print(type(tuples))\n",
    "lists = []\n",
    "print(type(lists))"
   ]
  },
  {
   "cell_type": "code",
   "execution_count": 45,
   "metadata": {},
   "outputs": [
    {
     "name": "stdout",
     "output_type": "stream",
     "text": [
      "<class 'list'>\n",
      "<class 'tuple'>\n"
     ]
    }
   ],
   "source": [
    "# List And Tuples can be define by keywords also \n",
    "L = list()\n",
    "print(type(L))\n",
    "T =  tuple()\n",
    "print(type(T))"
   ]
  },
  {
   "cell_type": "code",
   "execution_count": 48,
   "metadata": {},
   "outputs": [
    {
     "name": "stdout",
     "output_type": "stream",
     "text": [
      "(1, 2, 3, 4, 5)\n",
      "[1, 2, 3, 4, 5]\n"
     ]
    }
   ],
   "source": [
    "Tup = (1,2,3,4,5)    # This BAsically Tuple\n",
    "print(Tup)\n",
    "lis = list(Tup)      # I have type casted tuple into the list\n",
    "print(lis)"
   ]
  },
  {
   "cell_type": "markdown",
   "metadata": {},
   "source": [
    "#### Accessing Tuple Elements (Similar As List)"
   ]
  },
  {
   "cell_type": "code",
   "execution_count": 51,
   "metadata": {},
   "outputs": [
    {
     "name": "stdout",
     "output_type": "stream",
     "text": [
      "2\n",
      "5\n",
      "(2, 3)\n"
     ]
    }
   ],
   "source": [
    "Tup = (1,2,3,4,5)\n",
    "print(Tup[1])         \n",
    "print(Tup[-1])\n",
    "print(Tup[1:3])"
   ]
  },
  {
   "cell_type": "markdown",
   "metadata": {},
   "source": [
    "#### Tuple Operation"
   ]
  },
  {
   "cell_type": "code",
   "execution_count": 53,
   "metadata": {},
   "outputs": [
    {
     "name": "stdout",
     "output_type": "stream",
     "text": [
      "(5, 6, 7, 8, 'kaushal', 'naik', 'appa')\n"
     ]
    }
   ],
   "source": [
    "#Concating Two tuples\n",
    "numbs = (5,6,7,8)\n",
    "words = (\"kaushal\",\"naik\",\"appa\")\n",
    "concat = numbs + words\n",
    "print(concat)"
   ]
  },
  {
   "cell_type": "markdown",
   "metadata": {},
   "source": [
    "#### Tuples Are Immutable\n"
   ]
  },
  {
   "cell_type": "code",
   "execution_count": 57,
   "metadata": {},
   "outputs": [
    {
     "name": "stdout",
     "output_type": "stream",
     "text": [
      "(1, 2, 3, 4, 5)\n"
     ]
    },
    {
     "ename": "TypeError",
     "evalue": "'tuple' object does not support item assignment",
     "output_type": "error",
     "traceback": [
      "\u001b[1;31m---------------------------------------------------------------------------\u001b[0m",
      "\u001b[1;31mTypeError\u001b[0m                                 Traceback (most recent call last)",
      "Cell \u001b[1;32mIn[57], line 3\u001b[0m\n\u001b[0;32m      1\u001b[0m Tuple_1 \u001b[38;5;241m=\u001b[39m (\u001b[38;5;241m1\u001b[39m,\u001b[38;5;241m2\u001b[39m,\u001b[38;5;241m3\u001b[39m,\u001b[38;5;241m4\u001b[39m,\u001b[38;5;241m5\u001b[39m)\n\u001b[0;32m      2\u001b[0m \u001b[38;5;28mprint\u001b[39m(Tuple_1)\n\u001b[1;32m----> 3\u001b[0m \u001b[43mTuple_1\u001b[49m\u001b[43m[\u001b[49m\u001b[38;5;241;43m1\u001b[39;49m\u001b[43m]\u001b[49m \u001b[38;5;241m=\u001b[39m \u001b[38;5;241m100\u001b[39m     \u001b[38;5;66;03m# Here It will Get Error Because Tuple Doesnot Alllow To Change the Elements\u001b[39;00m\n\u001b[0;32m      4\u001b[0m \u001b[38;5;28mprint\u001b[39m(Tuple_1)\n",
      "\u001b[1;31mTypeError\u001b[0m: 'tuple' object does not support item assignment"
     ]
    }
   ],
   "source": [
    "Tuple_1 = (1,2,3,4,5)\n",
    "print(Tuple_1)\n",
    "Tuple_1[1] = 100     # Here It will Get Error Because Tuple Doesnot Alllow To Change the Elements\n",
    "print(Tuple_1)\n"
   ]
  },
  {
   "cell_type": "markdown",
   "metadata": {},
   "source": [
    "#### Tuple Methods\n"
   ]
  },
  {
   "cell_type": "code",
   "execution_count": 62,
   "metadata": {},
   "outputs": [
    {
     "name": "stdout",
     "output_type": "stream",
     "text": [
      "3\n",
      "2\n",
      "2\n"
     ]
    }
   ],
   "source": [
    "new_tuple = (1,2,3,1,4,1,5,2,5,3,4,6,7,8,9)\n",
    "cnt1 = new_tuple.count(1)\n",
    "cnt2 = new_tuple.count(2)\n",
    "print(cnt1)\n",
    "print(cnt2)\n",
    "\n",
    "print(new_tuple.index(3))    # Gives the index number of first occurance 3"
   ]
  },
  {
   "cell_type": "markdown",
   "metadata": {},
   "source": [
    "#### Packing ANd Unpacking"
   ]
  },
  {
   "cell_type": "code",
   "execution_count": 65,
   "metadata": {},
   "outputs": [
    {
     "name": "stdout",
     "output_type": "stream",
     "text": [
      "(1, 'kaushal', 2, 'naik')\n",
      "1\n",
      "kaushal\n",
      "2\n",
      "naik\n"
     ]
    }
   ],
   "source": [
    "# Packing Tuple\n",
    "packing_Tup = 1,\"kaushal\",2,\"naik\"\n",
    "print(packing_Tup)\n",
    "\n",
    "# Unpacking Tuple\n",
    "no1,no2,no3,no4 = packing_Tup\n",
    "print(no1)\n",
    "print(no2)\n",
    "print(no3)\n",
    "print(no4)\n"
   ]
  },
  {
   "cell_type": "markdown",
   "metadata": {},
   "source": [
    "#### Nested Tuple"
   ]
  },
  {
   "cell_type": "code",
   "execution_count": 74,
   "metadata": {},
   "outputs": [
    {
     "name": "stdout",
     "output_type": "stream",
     "text": [
      "((1, 2, 3), ('kaus', 'naik', 'appa'), (6, 7, 8))\n",
      "(6, 7, 8)\n",
      "appa\n"
     ]
    }
   ],
   "source": [
    "nest_tup = ((1,2,3),(\"kaus\",\"naik\",\"appa\"),(6,7,8))\n",
    "print(nest_tup)\n",
    "print(nest_tup[2])\n",
    "print(nest_tup[1][2])"
   ]
  },
  {
   "cell_type": "markdown",
   "metadata": {},
   "source": [
    "#########################################################################################################################################"
   ]
  },
  {
   "cell_type": "markdown",
   "metadata": {},
   "source": [
    "# Sets"
   ]
  },
  {
   "cell_type": "code",
   "execution_count": 77,
   "metadata": {},
   "outputs": [
    {
     "name": "stdout",
     "output_type": "stream",
     "text": [
      "<class 'set'>\n",
      "<class 'set'>\n"
     ]
    }
   ],
   "source": [
    "# Creating Sets\n",
    "set1 = {1,2,3,4,5,6}\n",
    "print(type(set1))\n",
    "set2 = set((1,2,3,4,5,6))\n",
    "print(type(set2))\n"
   ]
  },
  {
   "cell_type": "markdown",
   "metadata": {},
   "source": [
    "#### Set Operation"
   ]
  },
  {
   "cell_type": "code",
   "execution_count": 81,
   "metadata": {},
   "outputs": [
    {
     "name": "stdout",
     "output_type": "stream",
     "text": [
      "{1, 2, 4, 5, 6, 9}\n",
      "{2, 4, 5, 6, 9}\n",
      "{4, 5, 6, 9}\n"
     ]
    }
   ],
   "source": [
    "set1.add(9)       # Adding Element\n",
    "print(set1)\n",
    "set1.remove(1)     # Removing Element\n",
    "print(set1)\n",
    "set1.pop()         # As sets Folow FIFO So first element will be poped\n",
    "print(set1)"
   ]
  },
  {
   "cell_type": "markdown",
   "metadata": {},
   "source": [
    "#### Mathematical Operation"
   ]
  },
  {
   "cell_type": "code",
   "execution_count": 87,
   "metadata": {},
   "outputs": [
    {
     "name": "stdout",
     "output_type": "stream",
     "text": [
      "{1, 2, 3, 4, 5, 6, 9}\n",
      "{4, 5, 6}\n",
      "{1, 2, 3}\n",
      "False\n",
      "False\n"
     ]
    }
   ],
   "source": [
    "set_1 = {1,2,3,4,5,6}\n",
    "set_2 = {4,5,6,7,8,9}\n",
    "union_set = set1.union(set2)\n",
    "print(union_set)\n",
    "intersection_set = set1.intersection(set2)\n",
    "print(intersection_set)\n",
    "difference_set = set_1.difference(set_2)\n",
    "print(difference_set)\n",
    "\n",
    "\n",
    "\n",
    "# Methods\n",
    "sbst = set_1.issubset(set_2)\n",
    "print(sbst)\n",
    "spst = set_1.issuperset(set_2)\n",
    "print(spst)"
   ]
  },
  {
   "cell_type": "code",
   "execution_count": 89,
   "metadata": {},
   "outputs": [
    {
     "name": "stdout",
     "output_type": "stream",
     "text": [
      "{1, 2, 3, 4, 5, 6, 7, 8}\n"
     ]
    }
   ],
   "source": [
    "# removing Duplicates from List\n",
    "List_dup = [1,2,2,3,3,4,4,5,6,6,7,7,8]   #Duplicate element List\n",
    "print(set(List_dup))                     #As Set dont allow duplicates we will simply convert list into the set"
   ]
  },
  {
   "cell_type": "markdown",
   "metadata": {},
   "source": [
    "#################################################################################################################################################"
   ]
  },
  {
   "cell_type": "markdown",
   "metadata": {},
   "source": [
    "# Dictionary"
   ]
  },
  {
   "cell_type": "code",
   "execution_count": 93,
   "metadata": {},
   "outputs": [
    {
     "name": "stdout",
     "output_type": "stream",
     "text": [
      "kaushal\n"
     ]
    }
   ],
   "source": [
    "# Accessing Dictionary\n",
    "\n",
    "\n",
    "Stud_Dict = {\"name\":\"kaushal\", \"age\":\"25\",\"city\":\"mumbai\"}\n",
    "print(Stud_Dict[\"name\"])"
   ]
  },
  {
   "cell_type": "markdown",
   "metadata": {},
   "source": [
    "#### Accessing Dictionary Elements"
   ]
  },
  {
   "cell_type": "code",
   "execution_count": 96,
   "metadata": {},
   "outputs": [
    {
     "name": "stdout",
     "output_type": "stream",
     "text": [
      "{'name': 'kaushal', 'age': 100, 'city': 'mumbai'}\n",
      "{'name': 'kaushal', 'age': 100, 'city': 'mumbai', 'village': 'Kolhapur'}\n",
      "{'name': 'kaushal', 'age': 100, 'village': 'Kolhapur'}\n"
     ]
    }
   ],
   "source": [
    "# Modifying Dictionary elements\n",
    "\n",
    "Stud_Dict = {\"name\":\"kaushal\", \"age\":\"25\",\"city\":\"mumbai\"}\n",
    "Stud_Dict[\"age\"]= 100          #updated\n",
    "print(Stud_Dict)\n",
    "Stud_Dict[\"village\"]=\"Kolhapur\"            # Added New value\n",
    "print(Stud_Dict)\n",
    "del Stud_Dict[\"city\"]                 # deleting\n",
    "print(Stud_Dict)"
   ]
  },
  {
   "cell_type": "markdown",
   "metadata": {},
   "source": [
    "#### Dictionary Method"
   ]
  },
  {
   "cell_type": "code",
   "execution_count": 99,
   "metadata": {},
   "outputs": [
    {
     "name": "stdout",
     "output_type": "stream",
     "text": [
      "dict_keys(['name', 'age', 'city'])\n",
      "dict_values(['kaushal', '25', 'mumbai'])\n",
      "dict_items([('name', 'kaushal'), ('age', '25'), ('city', 'mumbai')])\n"
     ]
    }
   ],
   "source": [
    "\n",
    "Stud_Dict = {\"name\":\"kaushal\", \"age\":\"25\",\"city\":\"mumbai\"}\n",
    "print(Stud_Dict.keys())\n",
    "print(Stud_Dict.values())\n",
    "print(Stud_Dict.items())\n",
    "\n"
   ]
  },
  {
   "cell_type": "markdown",
   "metadata": {},
   "source": [
    "#### Iterating Dictionaries"
   ]
  },
  {
   "cell_type": "code",
   "execution_count": 102,
   "metadata": {},
   "outputs": [
    {
     "name": "stdout",
     "output_type": "stream",
     "text": [
      "name\n",
      "age\n",
      "city\n",
      "kaushal\n",
      "25\n",
      "mumbai\n",
      "name kaushal\n",
      "age 25\n",
      "city mumbai\n"
     ]
    }
   ],
   "source": [
    "Stud_Dict = {\"name\":\"kaushal\", \"age\":\"25\",\"city\":\"mumbai\"}\n",
    "for keys in Stud_Dict.keys():\n",
    "    print(keys)\n",
    "for values in Stud_Dict.values():\n",
    "    print(values)\n",
    "for key,values in Stud_Dict.items():\n",
    "    print(key,values)"
   ]
  }
 ],
 "metadata": {
  "kernelspec": {
   "display_name": "Python 3",
   "language": "python",
   "name": "python3"
  },
  "language_info": {
   "codemirror_mode": {
    "name": "ipython",
    "version": 3
   },
   "file_extension": ".py",
   "mimetype": "text/x-python",
   "name": "python",
   "nbconvert_exporter": "python",
   "pygments_lexer": "ipython3",
   "version": "3.10.16"
  }
 },
 "nbformat": 4,
 "nbformat_minor": 2
}
